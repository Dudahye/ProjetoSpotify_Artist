{
  "nbformat": 4,
  "nbformat_minor": 0,
  "metadata": {
    "colab": {
      "provenance": [],
      "mount_file_id": "17Ok5L6Hdb2dbarYAkd7LjEXK6Ld0DBrE",
      "authorship_tag": "ABX9TyMbjgmfdtiM7gx+1AZg5FS9",
      "include_colab_link": true
    },
    "kernelspec": {
      "name": "python3",
      "display_name": "Python 3"
    },
    "language_info": {
      "name": "python"
    }
  },
  "cells": [
    {
      "cell_type": "markdown",
      "metadata": {
        "id": "view-in-github",
        "colab_type": "text"
      },
      "source": [
        "<a href=\"https://colab.research.google.com/github/Dudahye/ProjetoSpotify_Artist/blob/main/SpotifyAnalise_Artist_pynb.ipynb\" target=\"_parent\"><img src=\"https://colab.research.google.com/assets/colab-badge.svg\" alt=\"Open In Colab\"/></a>"
      ]
    },
    {
      "cell_type": "markdown",
      "source": [
        "#Análise Spotify: Rank das 100 músicas e artistas mais tocados.\n",
        "\n",
        "* Vamos analisar o artista com maior quantidade de músicas dentro do Rank das 100 músicas mais ouvidas."
      ],
      "metadata": {
        "id": "rxfQA4qRVrxF"
      }
    },
    {
      "cell_type": "markdown",
      "source": [
        "1- Primeiro importamos as bibliotecas necessarias para a análise, hoje vamos utilizar pandas e matplotlib."
      ],
      "metadata": {
        "id": "s8j9t6_oW12T"
      }
    },
    {
      "cell_type": "code",
      "execution_count": 1,
      "metadata": {
        "id": "wKjvoY0fOfIc"
      },
      "outputs": [],
      "source": [
        "import pandas as pd\n",
        "import matplotlib"
      ]
    },
    {
      "cell_type": "markdown",
      "source": [
        "2- Após realizada a importação vamos ler o arquivo, criamos uma variável para chamar o conjunto que será Spotifyanalise como o arquivo que estou utilizando é cvs vamos utilizar o read.csv e adicionar o caminho do arquivo, OBS:Nesse caso utilizamos os dados de dentro no Drive então antes tivemos que montar o Drive e copiar o caminho do arquivo."
      ],
      "metadata": {
        "id": "VKg4ZhAzXSAx"
      }
    },
    {
      "cell_type": "code",
      "source": [
        "Spotifyanalise = pd.read_csv('/content/drive/MyDrive/SPOTIFY/List of most-streamed songs on Spotify.csv')"
      ],
      "metadata": {
        "id": "dXW6sEXVOy0e"
      },
      "execution_count": 5,
      "outputs": []
    },
    {
      "cell_type": "markdown",
      "source": [
        "3- Após criada a variável Spotifyanalise, vamos apresentar o conjunto de dados na tela com .head() e assim vamos conseguir verificar as colunas e linhas do arquivo conforme aparece abaixo."
      ],
      "metadata": {
        "id": "1AdxG0kaXL8q"
      }
    },
    {
      "cell_type": "code",
      "source": [
        "Spotifyanalise.head()"
      ],
      "metadata": {
        "colab": {
          "base_uri": "https://localhost:8080/",
          "height": 206
        },
        "id": "2cDBzUlpPL7u",
        "outputId": "0ee6b828-377b-462d-abd7-4e830867d494"
      },
      "execution_count": 7,
      "outputs": [
        {
          "output_type": "execute_result",
          "data": {
            "text/plain": [
              "   Rank               Song Streams (Billions)  \\\n",
              "0     1       Shape of You              3,327   \n",
              "1     2    Blinding Lights              3,323   \n",
              "2     3       Dance Monkey              2,721   \n",
              "3     4  Someone You Loved              2,588   \n",
              "4     5           Rockstar              2,570   \n",
              "\n",
              "                            Artist       Release Date  \n",
              "0                       Ed Sheeran     6 January 2017  \n",
              "1                       The Weeknd   29 November 2019  \n",
              "2                      Tones And I          10.May.19  \n",
              "3                    Lewis Capaldi    8 November 2018  \n",
              "4  Post Malone featuring 21 Savage  15 September 2017  "
            ],
            "text/html": [
              "\n",
              "  <div id=\"df-44dcc9f6-9f3a-4dfe-a0ac-bb6b6a51f334\">\n",
              "    <div class=\"colab-df-container\">\n",
              "      <div>\n",
              "<style scoped>\n",
              "    .dataframe tbody tr th:only-of-type {\n",
              "        vertical-align: middle;\n",
              "    }\n",
              "\n",
              "    .dataframe tbody tr th {\n",
              "        vertical-align: top;\n",
              "    }\n",
              "\n",
              "    .dataframe thead th {\n",
              "        text-align: right;\n",
              "    }\n",
              "</style>\n",
              "<table border=\"1\" class=\"dataframe\">\n",
              "  <thead>\n",
              "    <tr style=\"text-align: right;\">\n",
              "      <th></th>\n",
              "      <th>Rank</th>\n",
              "      <th>Song</th>\n",
              "      <th>Streams (Billions)</th>\n",
              "      <th>Artist</th>\n",
              "      <th>Release Date</th>\n",
              "    </tr>\n",
              "  </thead>\n",
              "  <tbody>\n",
              "    <tr>\n",
              "      <th>0</th>\n",
              "      <td>1</td>\n",
              "      <td>Shape of You</td>\n",
              "      <td>3,327</td>\n",
              "      <td>Ed Sheeran</td>\n",
              "      <td>6 January 2017</td>\n",
              "    </tr>\n",
              "    <tr>\n",
              "      <th>1</th>\n",
              "      <td>2</td>\n",
              "      <td>Blinding Lights</td>\n",
              "      <td>3,323</td>\n",
              "      <td>The Weeknd</td>\n",
              "      <td>29 November 2019</td>\n",
              "    </tr>\n",
              "    <tr>\n",
              "      <th>2</th>\n",
              "      <td>3</td>\n",
              "      <td>Dance Monkey</td>\n",
              "      <td>2,721</td>\n",
              "      <td>Tones And I</td>\n",
              "      <td>10.May.19</td>\n",
              "    </tr>\n",
              "    <tr>\n",
              "      <th>3</th>\n",
              "      <td>4</td>\n",
              "      <td>Someone You Loved</td>\n",
              "      <td>2,588</td>\n",
              "      <td>Lewis Capaldi</td>\n",
              "      <td>8 November 2018</td>\n",
              "    </tr>\n",
              "    <tr>\n",
              "      <th>4</th>\n",
              "      <td>5</td>\n",
              "      <td>Rockstar</td>\n",
              "      <td>2,570</td>\n",
              "      <td>Post Malone featuring 21 Savage</td>\n",
              "      <td>15 September 2017</td>\n",
              "    </tr>\n",
              "  </tbody>\n",
              "</table>\n",
              "</div>\n",
              "      <button class=\"colab-df-convert\" onclick=\"convertToInteractive('df-44dcc9f6-9f3a-4dfe-a0ac-bb6b6a51f334')\"\n",
              "              title=\"Convert this dataframe to an interactive table.\"\n",
              "              style=\"display:none;\">\n",
              "        \n",
              "  <svg xmlns=\"http://www.w3.org/2000/svg\" height=\"24px\"viewBox=\"0 0 24 24\"\n",
              "       width=\"24px\">\n",
              "    <path d=\"M0 0h24v24H0V0z\" fill=\"none\"/>\n",
              "    <path d=\"M18.56 5.44l.94 2.06.94-2.06 2.06-.94-2.06-.94-.94-2.06-.94 2.06-2.06.94zm-11 1L8.5 8.5l.94-2.06 2.06-.94-2.06-.94L8.5 2.5l-.94 2.06-2.06.94zm10 10l.94 2.06.94-2.06 2.06-.94-2.06-.94-.94-2.06-.94 2.06-2.06.94z\"/><path d=\"M17.41 7.96l-1.37-1.37c-.4-.4-.92-.59-1.43-.59-.52 0-1.04.2-1.43.59L10.3 9.45l-7.72 7.72c-.78.78-.78 2.05 0 2.83L4 21.41c.39.39.9.59 1.41.59.51 0 1.02-.2 1.41-.59l7.78-7.78 2.81-2.81c.8-.78.8-2.07 0-2.86zM5.41 20L4 18.59l7.72-7.72 1.47 1.35L5.41 20z\"/>\n",
              "  </svg>\n",
              "      </button>\n",
              "      \n",
              "  <style>\n",
              "    .colab-df-container {\n",
              "      display:flex;\n",
              "      flex-wrap:wrap;\n",
              "      gap: 12px;\n",
              "    }\n",
              "\n",
              "    .colab-df-convert {\n",
              "      background-color: #E8F0FE;\n",
              "      border: none;\n",
              "      border-radius: 50%;\n",
              "      cursor: pointer;\n",
              "      display: none;\n",
              "      fill: #1967D2;\n",
              "      height: 32px;\n",
              "      padding: 0 0 0 0;\n",
              "      width: 32px;\n",
              "    }\n",
              "\n",
              "    .colab-df-convert:hover {\n",
              "      background-color: #E2EBFA;\n",
              "      box-shadow: 0px 1px 2px rgba(60, 64, 67, 0.3), 0px 1px 3px 1px rgba(60, 64, 67, 0.15);\n",
              "      fill: #174EA6;\n",
              "    }\n",
              "\n",
              "    [theme=dark] .colab-df-convert {\n",
              "      background-color: #3B4455;\n",
              "      fill: #D2E3FC;\n",
              "    }\n",
              "\n",
              "    [theme=dark] .colab-df-convert:hover {\n",
              "      background-color: #434B5C;\n",
              "      box-shadow: 0px 1px 3px 1px rgba(0, 0, 0, 0.15);\n",
              "      filter: drop-shadow(0px 1px 2px rgba(0, 0, 0, 0.3));\n",
              "      fill: #FFFFFF;\n",
              "    }\n",
              "  </style>\n",
              "\n",
              "      <script>\n",
              "        const buttonEl =\n",
              "          document.querySelector('#df-44dcc9f6-9f3a-4dfe-a0ac-bb6b6a51f334 button.colab-df-convert');\n",
              "        buttonEl.style.display =\n",
              "          google.colab.kernel.accessAllowed ? 'block' : 'none';\n",
              "\n",
              "        async function convertToInteractive(key) {\n",
              "          const element = document.querySelector('#df-44dcc9f6-9f3a-4dfe-a0ac-bb6b6a51f334');\n",
              "          const dataTable =\n",
              "            await google.colab.kernel.invokeFunction('convertToInteractive',\n",
              "                                                     [key], {});\n",
              "          if (!dataTable) return;\n",
              "\n",
              "          const docLinkHtml = 'Like what you see? Visit the ' +\n",
              "            '<a target=\"_blank\" href=https://colab.research.google.com/notebooks/data_table.ipynb>data table notebook</a>'\n",
              "            + ' to learn more about interactive tables.';\n",
              "          element.innerHTML = '';\n",
              "          dataTable['output_type'] = 'display_data';\n",
              "          await google.colab.output.renderOutput(dataTable, element);\n",
              "          const docLink = document.createElement('div');\n",
              "          docLink.innerHTML = docLinkHtml;\n",
              "          element.appendChild(docLink);\n",
              "        }\n",
              "      </script>\n",
              "    </div>\n",
              "  </div>\n",
              "  "
            ]
          },
          "metadata": {},
          "execution_count": 7
        }
      ]
    },
    {
      "cell_type": "markdown",
      "source": [
        "4 - Agora vamos verificar as colunas existentes no nosso conjunto de dados com .columns.values"
      ],
      "metadata": {
        "id": "ZR3mtpdeayTw"
      }
    },
    {
      "cell_type": "code",
      "source": [
        "Spotifyanalise.columns.values"
      ],
      "metadata": {
        "colab": {
          "base_uri": "https://localhost:8080/",
          "height": 0
        },
        "id": "-TbfjTBpRNml",
        "outputId": "540a1056-fa5f-4411-928c-e90867d6d5ad"
      },
      "execution_count": 14,
      "outputs": [
        {
          "output_type": "execute_result",
          "data": {
            "text/plain": [
              "array(['Rank', 'Song', 'Streams (Billions)', 'Artist', 'Release Date'],\n",
              "      dtype=object)"
            ]
          },
          "metadata": {},
          "execution_count": 14
        }
      ]
    },
    {
      "cell_type": "markdown",
      "source": [
        "5- Após verificarmos vamos escolher quais colunas utilizar, nesse caso vamos utilizar Song, Streams (Billions) e Artist, e para isso criamos uma nova variável que será chamada de spotifyselecionados e vamos colocar as colunas entre[' ', ' ' ...]"
      ],
      "metadata": {
        "id": "30LCT_jRbwQX"
      }
    },
    {
      "cell_type": "code",
      "source": [
        "spotifyselecionados=['Song', 'Streams (Billions)', 'Artist']"
      ],
      "metadata": {
        "id": "2iiipRppQfrd"
      },
      "execution_count": 16,
      "outputs": []
    },
    {
      "cell_type": "markdown",
      "source": [
        "6 - Agora vamos filtar os dados que inserimos na váriavel spotifyselecionados e\n",
        "para isso vamos utilizar variável criada = variável base.filter(items=variável criada)\n",
        "\n",
        "\n",
        "\n"
      ],
      "metadata": {
        "id": "TFXL0fjndgBV"
      }
    },
    {
      "cell_type": "code",
      "source": [
        "spotifyselecionados= Spotifyanalise.filter(items=spotifyselecionados)"
      ],
      "metadata": {
        "id": "ntizVG-qRgcz"
      },
      "execution_count": 18,
      "outputs": []
    },
    {
      "cell_type": "markdown",
      "source": [
        "7 - Após filtrado vamos apresentar os dados com .head()"
      ],
      "metadata": {
        "id": "1TxvkxwUe273"
      }
    },
    {
      "cell_type": "code",
      "source": [
        "spotifyselecionados.head()"
      ],
      "metadata": {
        "colab": {
          "base_uri": "https://localhost:8080/",
          "height": 206
        },
        "id": "WHe2ujuIRuP2",
        "outputId": "75da8119-e7ee-4f4e-90fe-2b333329d01f"
      },
      "execution_count": 30,
      "outputs": [
        {
          "output_type": "execute_result",
          "data": {
            "text/plain": [
              "                Song Streams (Billions)                           Artist\n",
              "0       Shape of You              3,327                       Ed Sheeran\n",
              "1    Blinding Lights              3,323                       The Weeknd\n",
              "2       Dance Monkey              2,721                      Tones And I\n",
              "3  Someone You Loved              2,588                    Lewis Capaldi\n",
              "4           Rockstar              2,570  Post Malone featuring 21 Savage"
            ],
            "text/html": [
              "\n",
              "  <div id=\"df-51549144-d15d-4367-bb39-f4169e5499e3\">\n",
              "    <div class=\"colab-df-container\">\n",
              "      <div>\n",
              "<style scoped>\n",
              "    .dataframe tbody tr th:only-of-type {\n",
              "        vertical-align: middle;\n",
              "    }\n",
              "\n",
              "    .dataframe tbody tr th {\n",
              "        vertical-align: top;\n",
              "    }\n",
              "\n",
              "    .dataframe thead th {\n",
              "        text-align: right;\n",
              "    }\n",
              "</style>\n",
              "<table border=\"1\" class=\"dataframe\">\n",
              "  <thead>\n",
              "    <tr style=\"text-align: right;\">\n",
              "      <th></th>\n",
              "      <th>Song</th>\n",
              "      <th>Streams (Billions)</th>\n",
              "      <th>Artist</th>\n",
              "    </tr>\n",
              "  </thead>\n",
              "  <tbody>\n",
              "    <tr>\n",
              "      <th>0</th>\n",
              "      <td>Shape of You</td>\n",
              "      <td>3,327</td>\n",
              "      <td>Ed Sheeran</td>\n",
              "    </tr>\n",
              "    <tr>\n",
              "      <th>1</th>\n",
              "      <td>Blinding Lights</td>\n",
              "      <td>3,323</td>\n",
              "      <td>The Weeknd</td>\n",
              "    </tr>\n",
              "    <tr>\n",
              "      <th>2</th>\n",
              "      <td>Dance Monkey</td>\n",
              "      <td>2,721</td>\n",
              "      <td>Tones And I</td>\n",
              "    </tr>\n",
              "    <tr>\n",
              "      <th>3</th>\n",
              "      <td>Someone You Loved</td>\n",
              "      <td>2,588</td>\n",
              "      <td>Lewis Capaldi</td>\n",
              "    </tr>\n",
              "    <tr>\n",
              "      <th>4</th>\n",
              "      <td>Rockstar</td>\n",
              "      <td>2,570</td>\n",
              "      <td>Post Malone featuring 21 Savage</td>\n",
              "    </tr>\n",
              "  </tbody>\n",
              "</table>\n",
              "</div>\n",
              "      <button class=\"colab-df-convert\" onclick=\"convertToInteractive('df-51549144-d15d-4367-bb39-f4169e5499e3')\"\n",
              "              title=\"Convert this dataframe to an interactive table.\"\n",
              "              style=\"display:none;\">\n",
              "        \n",
              "  <svg xmlns=\"http://www.w3.org/2000/svg\" height=\"24px\"viewBox=\"0 0 24 24\"\n",
              "       width=\"24px\">\n",
              "    <path d=\"M0 0h24v24H0V0z\" fill=\"none\"/>\n",
              "    <path d=\"M18.56 5.44l.94 2.06.94-2.06 2.06-.94-2.06-.94-.94-2.06-.94 2.06-2.06.94zm-11 1L8.5 8.5l.94-2.06 2.06-.94-2.06-.94L8.5 2.5l-.94 2.06-2.06.94zm10 10l.94 2.06.94-2.06 2.06-.94-2.06-.94-.94-2.06-.94 2.06-2.06.94z\"/><path d=\"M17.41 7.96l-1.37-1.37c-.4-.4-.92-.59-1.43-.59-.52 0-1.04.2-1.43.59L10.3 9.45l-7.72 7.72c-.78.78-.78 2.05 0 2.83L4 21.41c.39.39.9.59 1.41.59.51 0 1.02-.2 1.41-.59l7.78-7.78 2.81-2.81c.8-.78.8-2.07 0-2.86zM5.41 20L4 18.59l7.72-7.72 1.47 1.35L5.41 20z\"/>\n",
              "  </svg>\n",
              "      </button>\n",
              "      \n",
              "  <style>\n",
              "    .colab-df-container {\n",
              "      display:flex;\n",
              "      flex-wrap:wrap;\n",
              "      gap: 12px;\n",
              "    }\n",
              "\n",
              "    .colab-df-convert {\n",
              "      background-color: #E8F0FE;\n",
              "      border: none;\n",
              "      border-radius: 50%;\n",
              "      cursor: pointer;\n",
              "      display: none;\n",
              "      fill: #1967D2;\n",
              "      height: 32px;\n",
              "      padding: 0 0 0 0;\n",
              "      width: 32px;\n",
              "    }\n",
              "\n",
              "    .colab-df-convert:hover {\n",
              "      background-color: #E2EBFA;\n",
              "      box-shadow: 0px 1px 2px rgba(60, 64, 67, 0.3), 0px 1px 3px 1px rgba(60, 64, 67, 0.15);\n",
              "      fill: #174EA6;\n",
              "    }\n",
              "\n",
              "    [theme=dark] .colab-df-convert {\n",
              "      background-color: #3B4455;\n",
              "      fill: #D2E3FC;\n",
              "    }\n",
              "\n",
              "    [theme=dark] .colab-df-convert:hover {\n",
              "      background-color: #434B5C;\n",
              "      box-shadow: 0px 1px 3px 1px rgba(0, 0, 0, 0.15);\n",
              "      filter: drop-shadow(0px 1px 2px rgba(0, 0, 0, 0.3));\n",
              "      fill: #FFFFFF;\n",
              "    }\n",
              "  </style>\n",
              "\n",
              "      <script>\n",
              "        const buttonEl =\n",
              "          document.querySelector('#df-51549144-d15d-4367-bb39-f4169e5499e3 button.colab-df-convert');\n",
              "        buttonEl.style.display =\n",
              "          google.colab.kernel.accessAllowed ? 'block' : 'none';\n",
              "\n",
              "        async function convertToInteractive(key) {\n",
              "          const element = document.querySelector('#df-51549144-d15d-4367-bb39-f4169e5499e3');\n",
              "          const dataTable =\n",
              "            await google.colab.kernel.invokeFunction('convertToInteractive',\n",
              "                                                     [key], {});\n",
              "          if (!dataTable) return;\n",
              "\n",
              "          const docLinkHtml = 'Like what you see? Visit the ' +\n",
              "            '<a target=\"_blank\" href=https://colab.research.google.com/notebooks/data_table.ipynb>data table notebook</a>'\n",
              "            + ' to learn more about interactive tables.';\n",
              "          element.innerHTML = '';\n",
              "          dataTable['output_type'] = 'display_data';\n",
              "          await google.colab.output.renderOutput(dataTable, element);\n",
              "          const docLink = document.createElement('div');\n",
              "          docLink.innerHTML = docLinkHtml;\n",
              "          element.appendChild(docLink);\n",
              "        }\n",
              "      </script>\n",
              "    </div>\n",
              "  </div>\n",
              "  "
            ]
          },
          "metadata": {},
          "execution_count": 30
        }
      ]
    },
    {
      "cell_type": "markdown",
      "source": [
        "8 - Agora vamos verificar o artista mais tocado no rank das 100 músicas mais ouvidas, para isso primeiro vamos selecionar somente a coluna de artistas que é Artist e para realizarmos isso vamos criar outra váriavel que nesse caso será Artist_spotify conforme o código abaixo."
      ],
      "metadata": {
        "id": "59nOIszefr-s"
      }
    },
    {
      "cell_type": "code",
      "source": [
        "Artist_spotify=spotifyselecionados['Artist']"
      ],
      "metadata": {
        "id": "sykDWnFnSlIb"
      },
      "execution_count": 22,
      "outputs": []
    },
    {
      "cell_type": "markdown",
      "source": [
        "9 - Colocando o nome da váriavel criada Artisit_spotify vamos verificar todos os nomes dos artistas."
      ],
      "metadata": {
        "id": "KJN_xTTOjL0t"
      }
    },
    {
      "cell_type": "code",
      "source": [
        "Artist_spotify"
      ],
      "metadata": {
        "colab": {
          "base_uri": "https://localhost:8080/",
          "height": 0
        },
        "id": "yg3xSBmyS01L",
        "outputId": "72a4f496-34db-48fa-fce4-c63838957182"
      },
      "execution_count": 34,
      "outputs": [
        {
          "output_type": "execute_result",
          "data": {
            "text/plain": [
              "0                            Ed Sheeran\n",
              "1                            The Weeknd\n",
              "2                           Tones And I\n",
              "3                         Lewis Capaldi\n",
              "4       Post Malone featuring 21 Savage\n",
              "                    ...                \n",
              "95                           Jason Mraz\n",
              "96    Luis Fonsi featuring Daddy Yankee\n",
              "97                              Nirvana\n",
              "98                             Maroon 5\n",
              "99         DaBaby featuring Roddy Ricch\n",
              "Name: Artist, Length: 100, dtype: object"
            ]
          },
          "metadata": {},
          "execution_count": 34
        }
      ]
    },
    {
      "cell_type": "markdown",
      "source": [
        "10 - Agora para classificarmos quantas vezes os nomes dos artistas aparecem vamos utilizar a várivel Artist_spotify.value_counts() e assim vai nos mostrar quantas vezes cada artista aparece na base de dados. Com esse codígo já conseguimos verificar que o artista que mais aparece na base é o Ed Sheeran que aparece 4 vezes ou seja 4 músicas dele estão no ranking das 100 músicas mais ouvidas."
      ],
      "metadata": {
        "id": "zAYdCnVvijzg"
      }
    },
    {
      "cell_type": "code",
      "source": [
        "Artist_spotify.value_counts()"
      ],
      "metadata": {
        "colab": {
          "base_uri": "https://localhost:8080/",
          "height": 0
        },
        "id": "gpwajWUOTQtO",
        "outputId": "5e54bc2c-1488-45a4-d73a-cbb215e32a6e"
      },
      "execution_count": 28,
      "outputs": [
        {
          "output_type": "execute_result",
          "data": {
            "text/plain": [
              "Ed Sheeran                               4\n",
              "Imagine Dragons                          3\n",
              "XXXTentacion                             3\n",
              "Shawn Mendes                             3\n",
              "Maroon 5                                 2\n",
              "                                        ..\n",
              "Camila Cabello featuring Young Thug      1\n",
              "Travis Scott featuring Kendrick Lamar    1\n",
              "The Neighbourhood                        1\n",
              "John Legend                              1\n",
              "DaBaby featuring Roddy Ricch             1\n",
              "Name: Artist, Length: 82, dtype: int64"
            ]
          },
          "metadata": {},
          "execution_count": 28
        }
      ]
    },
    {
      "cell_type": "markdown",
      "source": [
        "11 - Somente para termos certeza que o maior número de incidencias de nomes de artista está correta vamos utilizar Artist_spotify.value_counts().max()"
      ],
      "metadata": {
        "id": "LB0WGoJTkgwh"
      }
    },
    {
      "cell_type": "code",
      "source": [
        "Artist_spotify.value_counts().max()"
      ],
      "metadata": {
        "colab": {
          "base_uri": "https://localhost:8080/",
          "height": 0
        },
        "id": "3DgkfESTVQ46",
        "outputId": "d2385384-6ed5-451d-d47b-cc435a663515"
      },
      "execution_count": 31,
      "outputs": [
        {
          "output_type": "execute_result",
          "data": {
            "text/plain": [
              "4"
            ]
          },
          "metadata": {},
          "execution_count": 31
        }
      ]
    },
    {
      "cell_type": "markdown",
      "source": [
        "Conclusão: Com essa analise podemos afirmar que o artista tem mais músicas dentro do rank das 100 músicas mais tocadas foi Ed.Sheram contendo 4 músicas no rank."
      ],
      "metadata": {
        "id": "T1tnO_-vk4Ps"
      }
    }
  ]
}